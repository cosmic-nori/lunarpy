{
 "cells": [
  {
   "cell_type": "markdown",
   "id": "52f1125f",
   "metadata": {},
   "source": [
    "# Example Lunar Data Analysis Notebook\n",
    "\n",
    "This notebook demonstrates how to use the `lunarpy` package to load and analyze lunar surface data.\n"
   ]
  },
  {
   "cell_type": "code",
   "execution_count": null,
   "id": "5fd051cd",
   "metadata": {},
   "outputs": [],
   "source": [
    "import pandas as pd\n",
    "from lunarpy.data import load_sample_lunar_surface_data\n",
    "from lunarpy.analysis import compute_summary_statistics, plot_variable_distribution\n",
    "\n",
    "# Load the sample data\n",
    "df = load_sample_lunar_surface_data()\n",
    "df.head()"
   ]
  },
  {
   "cell_type": "code",
   "execution_count": null,
   "id": "0b436dbd",
   "metadata": {},
   "outputs": [],
   "source": [
    "# Compute summary statistics\n",
    "stats = compute_summary_statistics(df)\n",
    "stats"
   ]
  },
  {
   "cell_type": "code",
   "execution_count": null,
   "id": "720221dc",
   "metadata": {},
   "outputs": [],
   "source": [
    "# Plot distribution of crater diameter\n",
    "plot_variable_distribution(df, variable='crater_diameter')"
   ]
  }
 ],
 "metadata": {},
 "nbformat": 4,
 "nbformat_minor": 5
}
